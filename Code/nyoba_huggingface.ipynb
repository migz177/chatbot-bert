{
  "nbformat": 4,
  "nbformat_minor": 0,
  "metadata": {
    "colab": {
      "provenance": []
    },
    "kernelspec": {
      "name": "python3",
      "display_name": "Python 3"
    },
    "language_info": {
      "name": "python"
    }
  },
  "cells": [
    {
      "cell_type": "code",
      "execution_count": 10,
      "metadata": {
        "id": "29yyh6RE2x3c"
      },
      "outputs": [],
      "source": [
        "import random\n",
        "import json\n",
        "from transformers import pipeline\n",
        "from transformers import AutoTokenizer, AutoModelForSequenceClassification"
      ]
    },
    {
      "cell_type": "code",
      "source": [
        "model_path = \"migz117/BERT-Base-Uncased-CHATBOT\"\n",
        "\n",
        "tokenizer = AutoTokenizer.from_pretrained(model_path)\n",
        "model = AutoModelForSequenceClassification.from_pretrained(model_path)\n",
        "chatbot= pipeline(\"sentiment-analysis\", model=model, tokenizer=tokenizer)\n",
        "chatbot(\"hello\")"
      ],
      "metadata": {
        "colab": {
          "base_uri": "https://localhost:8080/"
        },
        "id": "RytFLEia3rgC",
        "outputId": "b7dd1f0e-baa8-419d-eaf3-8b6d585af56d"
      },
      "execution_count": 12,
      "outputs": [
        {
          "output_type": "stream",
          "name": "stderr",
          "text": [
            "Device set to use cpu\n"
          ]
        },
        {
          "output_type": "execute_result",
          "data": {
            "text/plain": [
              "[{'label': 'greeting', 'score': 0.92813640832901}]"
            ]
          },
          "metadata": {},
          "execution_count": 12
        }
      ]
    },
    {
      "cell_type": "code",
      "source": [
        "with open(\"labeltoid.json\", \"r\") as f:\n",
        "    labeltoid = json.load(f)\n",
        "\n",
        "# Load intents\n",
        "with open(\"intents.json\", \"r\") as f:\n",
        "    intents = json.load(f)"
      ],
      "metadata": {
        "id": "qgQx4__J7dHQ"
      },
      "execution_count": 14,
      "outputs": []
    },
    {
      "cell_type": "code",
      "source": [
        "def chat(chatbot,labeltoid, intents):\n",
        "    print(\"Welcome to University Chatbot!!\")\n",
        "    print(\"Type 'quit' to exit the chat\\n\")\n",
        "\n",
        "    while True:\n",
        "        text = input(\"User: \").strip()\n",
        "\n",
        "        if text.lower() == 'quit':\n",
        "            print(\"Chatbot: Goodbye!\")\n",
        "            break\n",
        "        if text == \"\":\n",
        "            print(\"Chatbot: Please type something!\\n\")\n",
        "            continue\n",
        "\n",
        "        predictions = chatbot(text)\n",
        "        score = predictions[0]['score']\n",
        "\n",
        "        if score < 0.8:\n",
        "            print(\"Chatbot: Sorry, I can't answer that.\\n\")\n",
        "            continue\n",
        "\n",
        "        label = labeltoid[predictions[0]['label']]\n",
        "        response = random.choice(intents['intents'][label]['responses'])\n",
        "\n",
        "        print(f\"Chatbot: {response}\\n\")\n"
      ],
      "metadata": {
        "id": "UVpCOUOH43H6"
      },
      "execution_count": 15,
      "outputs": []
    },
    {
      "cell_type": "code",
      "source": [
        "chat(chatbot, labeltoid, intents)"
      ],
      "metadata": {
        "colab": {
          "base_uri": "https://localhost:8080/"
        },
        "id": "yj00bn7-4_3Y",
        "outputId": "1489e31d-91ef-4624-a667-c42ebbcb0e55"
      },
      "execution_count": 17,
      "outputs": [
        {
          "output_type": "stream",
          "name": "stdout",
          "text": [
            "Welcome to University Chatbot!!\n",
            "Type 'quit' to exit the chat\n",
            "\n",
            "User: hello\n",
            "Chatbot: Good to see you again!\n",
            "\n",
            "User: hi\n",
            "Chatbot: Good to see you again!\n",
            "\n",
            "User: I need to know where the libraries\n",
            "Chatbot: There is one huge and spacious library.timings are 8am to 6pm and for more visit <a target=\"blank\" href=\"ADD LIBRARY DETAIL LINK\">here</a>\n",
            "\n",
            "User: i want some information about scholarship\n",
            "Chatbot: Many government scholarships are supported by our university. For details and updates visit <a target=\"_blank\" href=\"(SCHOLARSHIP DETAILS LINK)\">here</a>\n",
            "\n",
            "User: any other info for scholarship\n",
            "Chatbot: Many government scholarships are supported by our university. For details and updates visit <a target=\"_blank\" href=\"(SCHOLARSHIP DETAILS LINK)\">here</a>\n",
            "\n",
            "User: how about the fees\n",
            "Chatbot: For Fee detail visit <a target=\"_blank\" href=\"LINK\"> here</a>\n",
            "\n",
            "User: i want to know the sport events in this university\n",
            "Chatbot: Sorry, I can't answer that.\n",
            "\n",
            "User: how about the hostel\n",
            "Chatbot: For hostel detail visit <a target=\"_blank\" href=\"ADD YOUR HOSTEL DETAIL PDF LINK OR ANY INFORMATION LINK OR ADD YOU OWN ANSWERS\"> here</a>\n",
            "\n",
            "User: and the vacation?\n",
            "Chatbot: Academic calender is given to you by your class-soordinators after you join your respective classes\n",
            "\n",
            "User: how about the event in january\n",
            "Chatbot: For event detail visit <a target=\"_blank\" href=\"ADD YOUR FUNCTIONS LINK OR YOUR OWN RESPONSE\"> here</a>\n",
            "\n",
            "User: thankyouu\n",
            "Chatbot: welcome, anything else i can assist you with?\n",
            "\n",
            "User: QUIT\n",
            "Chatbot: Goodbye!\n"
          ]
        }
      ]
    }
  ]
}